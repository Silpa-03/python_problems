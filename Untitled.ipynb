{
 "cells": [
  {
   "cell_type": "markdown",
   "id": "eae65871",
   "metadata": {},
   "source": [
    "## print(\"hello world\")"
   ]
  },
  {
   "cell_type": "code",
   "execution_count": 2,
   "id": "0ac1d93f",
   "metadata": {},
   "outputs": [
    {
     "name": "stdout",
     "output_type": "stream",
     "text": [
      "50\n",
      "1275\n"
     ]
    }
   ],
   "source": [
    "#sum of n natural number\n",
    "n=int(input())\n",
    "sum=0\n",
    "for i in range(1,n+1):\n",
    "    sum=sum+i\n",
    "print(sum)"
   ]
  },
  {
   "cell_type": "code",
   "execution_count": 3,
   "id": "352ea98a",
   "metadata": {},
   "outputs": [
    {
     "name": "stdout",
     "output_type": "stream",
     "text": [
      "10\n",
      "5\n",
      "0\n",
      "1\n"
     ]
    }
   ],
   "source": [
    "#moduli of two numbers and exponential of result with result\n",
    "a=int(input())\n",
    "b=int(input())\n",
    "c=a%b\n",
    "print(c)\n",
    "d=c**c\n",
    "print(d)"
   ]
  },
  {
   "cell_type": "code",
   "execution_count": 1,
   "id": "d7d81ab7",
   "metadata": {},
   "outputs": [
    {
     "name": "stdout",
     "output_type": "stream",
     "text": [
      "2\n",
      "3\n",
      "5\n",
      "7\n",
      "11\n",
      "13\n",
      "17\n",
      "19\n",
      "9699690\n"
     ]
    }
   ],
   "source": [
    "# multiplication of  prime number\n",
    "n=20\n",
    "mul=1\n",
    "for i in range (2,n+1):\n",
    "    a=0\n",
    "    for j in range(1,i):\n",
    "        if i%j==0:\n",
    "            a+=1 \n",
    "    if a==1:\n",
    "        print(i)\n",
    "        mul=mul*i\n",
    "print(mul)"
   ]
  },
  {
   "cell_type": "code",
   "execution_count": null,
   "id": "d1f5e694",
   "metadata": {},
   "outputs": [],
   "source": [
    "# calculator\n",
    "while True:print(eval(input()))"
   ]
  },
  {
   "cell_type": "code",
   "execution_count": 6,
   "id": "ee9f107e",
   "metadata": {},
   "outputs": [
    {
     "name": "stdout",
     "output_type": "stream",
     "text": [
      "9699690\n"
     ]
    }
   ],
   "source": [
    "print(2*3*5*7*11*13*17*19)"
   ]
  },
  {
   "cell_type": "code",
   "execution_count": null,
   "id": "51760411",
   "metadata": {},
   "outputs": [],
   "source": [
    "print(25+\"3\")"
   ]
  },
  {
   "cell_type": "code",
   "execution_count": null,
   "id": "4475869a",
   "metadata": {},
   "outputs": [],
   "source": [
    "a=20\n",
    "for i in range(25):\n",
    "    a=a+i\n",
    "    \n",
    "    print(a)  "
   ]
  },
  {
   "cell_type": "code",
   "execution_count": null,
   "id": "662a8b48",
   "metadata": {},
   "outputs": [],
   "source": [
    "a=0\n",
    "for i in range(100):\n",
    "    a=a-10\n",
    "    a=i+a\n",
    "    print(a)\n",
    "print(a)"
   ]
  },
  {
   "cell_type": "code",
   "execution_count": null,
   "id": "6f837ae9",
   "metadata": {},
   "outputs": [],
   "source": [
    "a=0\n",
    "for i in range(100):\n",
    "    a=a*10\n",
    "    a=i+a\n",
    "    print(a)\n",
    "print(a)"
   ]
  },
  {
   "cell_type": "code",
   "execution_count": null,
   "id": "62a1516d",
   "metadata": {},
   "outputs": [],
   "source": [
    "a=0\n",
    "for i in range(100):\n",
    "    a=a/10\n",
    "    a=i+a\n",
    "    print(a)\n",
    "print(a)"
   ]
  },
  {
   "cell_type": "code",
   "execution_count": null,
   "id": "20dc1718",
   "metadata": {},
   "outputs": [],
   "source": [
    "a=0\n",
    "for i in range(100):\n",
    "    a=a//10\n",
    "    a=i+a\n",
    "    print(a)\n",
    "print(a)"
   ]
  },
  {
   "cell_type": "code",
   "execution_count": null,
   "id": "3f0199e7",
   "metadata": {},
   "outputs": [],
   "source": [
    "a=0\n",
    "for i in range(100):\n",
    "    a=a%10\n",
    "    a=i+a\n",
    "    print(a)\n",
    "print(a)"
   ]
  },
  {
   "cell_type": "code",
   "execution_count": null,
   "id": "4746dca2",
   "metadata": {},
   "outputs": [],
   "source": [
    "a=0\n",
    "for i in range(100):\n",
    "    a=20\n",
    "    a+=10\n",
    "    a=i+a\n",
    "    print(a)\n",
    "print(a)"
   ]
  },
  {
   "cell_type": "code",
   "execution_count": null,
   "id": "f9dbc199",
   "metadata": {},
   "outputs": [],
   "source": [
    "a=0\n",
    "for i in range(100):\n",
    "    a=20\n",
    "    a=a*10\n",
    "    a=i+a\n",
    "    print(a)\n",
    "print(a)"
   ]
  },
  {
   "cell_type": "code",
   "execution_count": null,
   "id": "c424e314",
   "metadata": {},
   "outputs": [],
   "source": [
    "a=0\n",
    "for i in range(100):\n",
    "    a=20\n",
    "    a=a-10\n",
    "    a=i+a\n",
    "    print(a)\n",
    "print(a)"
   ]
  },
  {
   "cell_type": "code",
   "execution_count": null,
   "id": "ed47f679",
   "metadata": {},
   "outputs": [],
   "source": [
    "a=0\n",
    "for i in range(100):\n",
    "    a=20\n",
    "    a=a//10\n",
    "    a=i+a\n",
    "    print(a)\n",
    "print(a)"
   ]
  },
  {
   "cell_type": "code",
   "execution_count": null,
   "id": "efee8fe0",
   "metadata": {},
   "outputs": [],
   "source": [
    "a=0\n",
    "for i in range(100):\n",
    "    a=20\n",
    "    a=a%10\n",
    "    a=i+a\n",
    "    print(a)\n",
    "print(a)"
   ]
  },
  {
   "cell_type": "code",
   "execution_count": null,
   "id": "e4f0cc59",
   "metadata": {},
   "outputs": [],
   "source": [
    "a=66\n",
    "b=20\n",
    "c=a|b\n",
    "print(c)"
   ]
  },
  {
   "cell_type": "code",
   "execution_count": null,
   "id": "305b664e",
   "metadata": {},
   "outputs": [],
   "source": [
    "a=66\n",
    "b=20\n",
    "c=a&a\n",
    "print(c)"
   ]
  },
  {
   "cell_type": "code",
   "execution_count": null,
   "id": "b53cc389",
   "metadata": {},
   "outputs": [],
   "source": [
    "a=66\n",
    "b=20\n",
    "c=a^b\n",
    "print(c)"
   ]
  },
  {
   "cell_type": "code",
   "execution_count": null,
   "id": "d7d6e0fc",
   "metadata": {},
   "outputs": [],
   "source": [
    "a=66\n",
    "b=20\n",
    "c=b^a\n",
    "print(c)"
   ]
  },
  {
   "cell_type": "code",
   "execution_count": null,
   "id": "e04ebb4b",
   "metadata": {},
   "outputs": [],
   "source": [
    "a=66\n",
    "b=20\n",
    "c=b^b\n",
    "print(c)"
   ]
  },
  {
   "cell_type": "code",
   "execution_count": null,
   "id": "8dc40c2f",
   "metadata": {},
   "outputs": [],
   "source": [
    "a=66\n",
    "b=20\n",
    "c=a>>b\n",
    "print(c)"
   ]
  },
  {
   "cell_type": "code",
   "execution_count": null,
   "id": "e640e423",
   "metadata": {},
   "outputs": [],
   "source": [
    "a=66\n",
    "b=20\n",
    "d=86\n",
    "e=d<<d\n",
    "print(e)"
   ]
  },
  {
   "cell_type": "code",
   "execution_count": null,
   "id": "64252dbb",
   "metadata": {},
   "outputs": [],
   "source": [
    "print(\"lakshmi silpa\")\n"
   ]
  },
  {
   "cell_type": "code",
   "execution_count": null,
   "id": "e9ccb85b",
   "metadata": {},
   "outputs": [],
   "source": [
    "a=20\n",
    "b=40\n",
    "x=a or b\n",
    "print(x)"
   ]
  },
  {
   "cell_type": "code",
   "execution_count": null,
   "id": "5c050eb8",
   "metadata": {},
   "outputs": [],
   "source": [
    "a=20\n",
    "b=40\n",
    "x=b and a\n",
    "print(x)"
   ]
  },
  {
   "cell_type": "code",
   "execution_count": null,
   "id": "d90df984",
   "metadata": {},
   "outputs": [],
   "source": [
    "a=20\n",
    "b=40\n",
    "print(not(a))\n"
   ]
  },
  {
   "cell_type": "code",
   "execution_count": null,
   "id": "0e2e4140",
   "metadata": {},
   "outputs": [],
   "source": [
    "a=20\n",
    "b=40\n",
    "x=~a\n",
    "print(x)"
   ]
  },
  {
   "cell_type": "code",
   "execution_count": null,
   "id": "fde6b576",
   "metadata": {},
   "outputs": [],
   "source": [
    "a=20\n",
    "b=40\n",
    "x=~b\n",
    "print(x)"
   ]
  },
  {
   "cell_type": "code",
   "execution_count": null,
   "id": "24988c3a",
   "metadata": {},
   "outputs": [],
   "source": [
    "a=20\n",
    "b=40\n",
    "x=a^b\n",
    "print(x)"
   ]
  },
  {
   "cell_type": "code",
   "execution_count": null,
   "id": "19fd1971",
   "metadata": {},
   "outputs": [],
   "source": [
    "a=20\n",
    "b=40\n",
    "x=a<<b\n",
    "print(x)"
   ]
  },
  {
   "cell_type": "code",
   "execution_count": null,
   "id": "cd89f991",
   "metadata": {},
   "outputs": [],
   "source": [
    "a=20\n",
    "b=40\n",
    "x=a<<2\n",
    "print(x)"
   ]
  },
  {
   "cell_type": "code",
   "execution_count": null,
   "id": "83ba92cf",
   "metadata": {},
   "outputs": [],
   "source": [
    "a=20\n",
    "b=40\n",
    "x=b>>2\n",
    "print(x)"
   ]
  },
  {
   "cell_type": "code",
   "execution_count": 2,
   "id": "7b71ee0d",
   "metadata": {},
   "outputs": [
    {
     "name": "stdout",
     "output_type": "stream",
     "text": [
      "64\n",
      "76\n",
      "hi\n"
     ]
    }
   ],
   "source": [
    "a=int(input())\n",
    "b=int(input())\n",
    "sum=a+b\n",
    "mul=a*b\n",
    "if(sum>100)&(mul<200):\n",
    "    print(\"bye\")\n",
    "else:\n",
    "    print(\"hi\")"
   ]
  },
  {
   "cell_type": "code",
   "execution_count": 3,
   "id": "cf3421c6",
   "metadata": {},
   "outputs": [
    {
     "name": "stdout",
     "output_type": "stream",
     "text": [
      "87\n"
     ]
    }
   ],
   "source": [
    "print((12+2)*(6%7)+(7//2))"
   ]
  },
  {
   "cell_type": "code",
   "execution_count": null,
   "id": "07327a24",
   "metadata": {},
   "outputs": [],
   "source": [
    "14*1"
   ]
  },
  {
   "cell_type": "code",
   "execution_count": 4,
   "id": "1f453ddd",
   "metadata": {},
   "outputs": [
    {
     "name": "stdout",
     "output_type": "stream",
     "text": [
      "6\n"
     ]
    }
   ],
   "source": [
    "print(6%7)"
   ]
  },
  {
   "cell_type": "code",
   "execution_count": 5,
   "id": "4eee19c5",
   "metadata": {},
   "outputs": [
    {
     "name": "stdout",
     "output_type": "stream",
     "text": [
      "  * *   * *   \r\n",
      "*     *     * \r\n",
      "*           * \r\n",
      "  *       *   \r\n",
      "    *   *     \r\n",
      "      *       \r\n"
     ]
    }
   ],
   "source": [
    "# heart shape\n",
    "for row in range(6):\n",
    "    for col in range(7):\n",
    "        if(row==0 and col%3!=0) or (row==1 and col%3==0) or (row-col==2) or (row+col==8):\n",
    "            print(\"*\",end=\" \")\n",
    "        else:\n",
    "            print(\" \",end=\" \")\n",
    "    print(\"\\r\")"
   ]
  },
  {
   "cell_type": "code",
   "execution_count": 11,
   "id": "19560df7",
   "metadata": {},
   "outputs": [
    {
     "name": "stdout",
     "output_type": "stream",
     "text": [
      "5\n",
      "1 \n",
      "2 2 \n",
      "3 3 3 \n",
      "4 4 4 4 \n",
      "5 5 5 5 5 \n"
     ]
    }
   ],
   "source": [
    "n=int(input())\n",
    "for i in range(1,n+1):\n",
    "    for j in range(1,i+1):\n",
    "        print(i,end=\" \")\n",
    "    print(\"\\r\")"
   ]
  },
  {
   "cell_type": "code",
   "execution_count": 3,
   "id": "e6445d06",
   "metadata": {},
   "outputs": [
    {
     "name": "stdout",
     "output_type": "stream",
     "text": [
      "5\n",
      "          * \n",
      "        * * \n",
      "      * * * \n",
      "    * * * * \n",
      "  * * * * * \n"
     ]
    }
   ],
   "source": [
    "n=int(input())\n",
    "spaces=n\n",
    "for i in range(1,n+1):\n",
    "    for j in range(1,spaces+1):\n",
    "        print(\" \",end=\" \")\n",
    "    for k in range(1,i+1):\n",
    "        print(\"*\",end=\" \")\n",
    "    print(\"\\r\")\n",
    "    spaces=spaces-1"
   ]
  },
  {
   "cell_type": "code",
   "execution_count": 4,
   "id": "9f193c1c",
   "metadata": {},
   "outputs": [
    {
     "name": "stdout",
     "output_type": "stream",
     "text": [
      "5\n",
      "1 \n",
      "1 2 \n",
      "1 2 3 \n",
      "1 2 3 4 \n",
      "1 2 3 4 5 \n"
     ]
    }
   ],
   "source": [
    "n=int(input())\n",
    "for i in range(1,n+1):\n",
    "    for j in range(1,i+1):\n",
    "        print(j,end=\" \")\n",
    "    print(\"\\r\")"
   ]
  },
  {
   "cell_type": "code",
   "execution_count": 5,
   "id": "274d54a6",
   "metadata": {},
   "outputs": [
    {
     "name": "stdout",
     "output_type": "stream",
     "text": [
      "5\n",
      "        * \n",
      "       * * \n",
      "      * * * \n",
      "     * * * * \n",
      "    * * * * * \n"
     ]
    }
   ],
   "source": [
    "n=int(input())\n",
    "space = 2 * n - 2\n",
    "for i in range(0, n):\n",
    "    for j in range(0, space):\n",
    "        print(\" \",end=\"\")\n",
    "    space = space - 1\n",
    "    for j in range(0, i + 1):\n",
    "        print(\"*\", end=\" \")\n",
    "    print()"
   ]
  },
  {
   "cell_type": "code",
   "execution_count": 6,
   "id": "0365c098",
   "metadata": {},
   "outputs": [
    {
     "name": "stdout",
     "output_type": "stream",
     "text": [
      "5\n",
      "* \n",
      "* * \n",
      "* * * \n",
      "* * * * \n",
      "* * * * * \n",
      "* * * * \n",
      "* * * \n",
      "* * \n",
      "* \n"
     ]
    }
   ],
   "source": [
    "rows = int(input())\n",
    "for i in range(1,rows+1):\n",
    "    for j in range(1,i+1):\n",
    "        print(\"*\",end=\" \")\n",
    "    print(\"\\r\")\n",
    "for i in range(rows,1,-1):\n",
    "    for j in range(1,i):\n",
    "        print(\"*\",end=\" \")\n",
    "    print(\"\\r\")"
   ]
  },
  {
   "cell_type": "code",
   "execution_count": 7,
   "id": "219cfa26",
   "metadata": {},
   "outputs": [
    {
     "name": "stdout",
     "output_type": "stream",
     "text": [
      "5\n",
      "* * * * * \n",
      "* * * * \n",
      "* * * \n",
      "* * \n",
      "* \n"
     ]
    }
   ],
   "source": [
    "rows=int(input())\n",
    "for i in range(rows+1,1,-1):\n",
    "    for j in range(1,i):\n",
    "        print(\"*\",end=\" \")\n",
    "    print(\"\\r\")"
   ]
  },
  {
   "cell_type": "code",
   "execution_count": 8,
   "id": "dac5af32",
   "metadata": {},
   "outputs": [
    {
     "name": "stdout",
     "output_type": "stream",
     "text": [
      "145\n",
      "given number is strong number\n"
     ]
    }
   ],
   "source": [
    "# strong number using for loop\n",
    "n=int(input())\n",
    "sum=0\n",
    "temp=n\n",
    "while(n>0):\n",
    "    fact=1 \n",
    "    a=n%10 \n",
    "    for i in range(1,a+1):\n",
    "        fact=fact*i\n",
    "    sum=sum+fact \n",
    "    n=n//10\n",
    "if(sum==temp):\n",
    "    print(\"given number is strong number\")\n",
    "else:\n",
    "    print(\"given number is not strong number\")"
   ]
  },
  {
   "cell_type": "code",
   "execution_count": 9,
   "id": "5cce8ebb",
   "metadata": {},
   "outputs": [
    {
     "name": "stdout",
     "output_type": "stream",
     "text": [
      "145\n",
      "given number is strong number\n"
     ]
    }
   ],
   "source": [
    "#strong number using while loop\n",
    "n=int(input())\n",
    "sum=0\n",
    "temp=n\n",
    "while(n>0):\n",
    "    fact=1 \n",
    "    i=1\n",
    "    a=n%10\n",
    "    while(i<=a):\n",
    "        fact=fact*i\n",
    "        i=i+1\n",
    "    sum=sum+fact \n",
    "    n=n//10\n",
    "if(sum==temp):\n",
    "    print(\"given number is strong number\")\n",
    "else:\n",
    "    print(\"given number is not strong number\")"
   ]
  },
  {
   "cell_type": "code",
   "execution_count": 22,
   "id": "ee744725",
   "metadata": {},
   "outputs": [
    {
     "name": "stdout",
     "output_type": "stream",
     "text": [
      "23\n",
      "given number is harshad number\n"
     ]
    }
   ],
   "source": [
    "# harshad number\n",
    "n=int(input())\n",
    "temp=n\n",
    "sum=0\n",
    "while(n!=0):\n",
    "    a=n%10\n",
    "    sum=sum+a\n",
    "    n=n//10\n",
    "if (n%sum==0):\n",
    "    print(\"given number is harshad number\")\n",
    "else:\n",
    "    print(\"given number is not harshad number\")"
   ]
  },
  {
   "cell_type": "code",
   "execution_count": 15,
   "id": "f36c8061",
   "metadata": {},
   "outputs": [
    {
     "name": "stdout",
     "output_type": "stream",
     "text": [
      "enter the year2025\n",
      "                                  2025\n",
      "\n",
      "      January                   February                   March\n",
      "Mo Tu We Th Fr Sa Su      Mo Tu We Th Fr Sa Su      Mo Tu We Th Fr Sa Su\n",
      "       1  2  3  4  5                      1  2                      1  2\n",
      " 6  7  8  9 10 11 12       3  4  5  6  7  8  9       3  4  5  6  7  8  9\n",
      "13 14 15 16 17 18 19      10 11 12 13 14 15 16      10 11 12 13 14 15 16\n",
      "20 21 22 23 24 25 26      17 18 19 20 21 22 23      17 18 19 20 21 22 23\n",
      "27 28 29 30 31            24 25 26 27 28            24 25 26 27 28 29 30\n",
      "                                                    31\n",
      "\n",
      "       April                      May                       June\n",
      "Mo Tu We Th Fr Sa Su      Mo Tu We Th Fr Sa Su      Mo Tu We Th Fr Sa Su\n",
      "    1  2  3  4  5  6                1  2  3  4                         1\n",
      " 7  8  9 10 11 12 13       5  6  7  8  9 10 11       2  3  4  5  6  7  8\n",
      "14 15 16 17 18 19 20      12 13 14 15 16 17 18       9 10 11 12 13 14 15\n",
      "21 22 23 24 25 26 27      19 20 21 22 23 24 25      16 17 18 19 20 21 22\n",
      "28 29 30                  26 27 28 29 30 31         23 24 25 26 27 28 29\n",
      "                                                    30\n",
      "\n",
      "        July                     August                  September\n",
      "Mo Tu We Th Fr Sa Su      Mo Tu We Th Fr Sa Su      Mo Tu We Th Fr Sa Su\n",
      "    1  2  3  4  5  6                   1  2  3       1  2  3  4  5  6  7\n",
      " 7  8  9 10 11 12 13       4  5  6  7  8  9 10       8  9 10 11 12 13 14\n",
      "14 15 16 17 18 19 20      11 12 13 14 15 16 17      15 16 17 18 19 20 21\n",
      "21 22 23 24 25 26 27      18 19 20 21 22 23 24      22 23 24 25 26 27 28\n",
      "28 29 30 31               25 26 27 28 29 30 31      29 30\n",
      "\n",
      "      October                   November                  December\n",
      "Mo Tu We Th Fr Sa Su      Mo Tu We Th Fr Sa Su      Mo Tu We Th Fr Sa Su\n",
      "       1  2  3  4  5                      1  2       1  2  3  4  5  6  7\n",
      " 6  7  8  9 10 11 12       3  4  5  6  7  8  9       8  9 10 11 12 13 14\n",
      "13 14 15 16 17 18 19      10 11 12 13 14 15 16      15 16 17 18 19 20 21\n",
      "20 21 22 23 24 25 26      17 18 19 20 21 22 23      22 23 24 25 26 27 28\n",
      "27 28 29 30 31            24 25 26 27 28 29 30      29 30 31\n",
      "\n"
     ]
    }
   ],
   "source": [
    "import calendar\n",
    "n=int(input(\"enter the year\"))\n",
    "print(calendar.calendar(n))"
   ]
  },
  {
   "cell_type": "code",
   "execution_count": 1,
   "id": "02be49f1",
   "metadata": {},
   "outputs": [
    {
     "name": "stdout",
     "output_type": "stream",
     "text": [
      "enter the starting daysat\n",
      "enter the no.of days30\n",
      "5\n"
     ]
    }
   ],
   "source": [
    "start=input(\"enter the starting day\")\n",
    "n=int(input(\"enter the no.of days\"))\n",
    "sundays=0\n",
    "d={\"sun\":1,\"mon\":2,\"tue\":3,\"wed\":4,\"thurs\":5,\"fri\":6,\"sat\":7}\n",
    "sundays=sundays+(n//7)\n",
    "mod=n%7\n",
    "for i in range(d[start],d[start]+mod):\n",
    "    if(i>7):\n",
    "        if(i-7==1):\n",
    "            sundays=sundays+1 \n",
    "        elif(i<=7):\n",
    "            if(i==1):\n",
    "                sundays=sundays+1 \n",
    "print(sundays)"
   ]
  },
  {
   "cell_type": "code",
   "execution_count": 2,
   "id": "c5cb597e",
   "metadata": {},
   "outputs": [
    {
     "name": "stdout",
     "output_type": "stream",
     "text": [
      "5\n",
      " 010\n",
      "2\n"
     ]
    }
   ],
   "source": [
    "n=int(input())\n",
    "b=bin(n)[2:]\n",
    "tv=\" \"\n",
    "for i in b:\n",
    "    if(i=='1'):\n",
    "        tv=tv+\"0\"\n",
    "    else:\n",
    "        tv=tv+\"1\"\n",
    "print(tv)\n",
    "print(int(tv,2))"
   ]
  },
  {
   "cell_type": "code",
   "execution_count": 10,
   "id": "39fbe55b",
   "metadata": {},
   "outputs": [
    {
     "name": "stdout",
     "output_type": "stream",
     "text": [
      "5\n",
      "0 \n",
      "1 0 \n",
      "2 1 0 \n",
      "3 2 1 0 \n",
      "4 3 2 1 0 \n"
     ]
    }
   ],
   "source": [
    "n=int(input())\n",
    "for i in range(1,n+1):\n",
    "    for j in range(1,i+1):\n",
    "        print(i-j,end=\" \")\n",
    "    print(\"\\r\")"
   ]
  },
  {
   "cell_type": "code",
   "execution_count": 1,
   "id": "9c61cfe0",
   "metadata": {},
   "outputs": [
    {
     "ename": "SyntaxError",
     "evalue": "'(' was never closed (1256089587.py, line 1)",
     "output_type": "error",
     "traceback": [
      "\u001b[1;36m  Cell \u001b[1;32mIn[1], line 1\u001b[1;36m\u001b[0m\n\u001b[1;33m    n= list((int,input().split(\",\")\u001b[0m\n\u001b[1;37m            ^\u001b[0m\n\u001b[1;31mSyntaxError\u001b[0m\u001b[1;31m:\u001b[0m '(' was never closed\n"
     ]
    }
   ],
   "source": [
    "n= list((int,input().split(\",\")\n",
    "s=[]\n",
    "k=len(n)\n",
    "sum=n[0]+n[1]\n",
    "s.append(sum)\n",
    "for i in range(1,k):\n",
    "    for j in range(0,i):\n",
    "        sum=s[j]+n[i]\n",
    "        s.append(sum)\n",
    "print(s)\n"
   ]
  },
  {
   "cell_type": "code",
   "execution_count": 2,
   "id": "a2c8d964",
   "metadata": {},
   "outputs": [
    {
     "name": "stdout",
     "output_type": "stream",
     "text": [
      "['i', 'a', 'u']\n"
     ]
    }
   ],
   "source": [
    "words=\"silpaputta\"\n",
    "vowels=['a','e','i','o','u']\n",
    "found=[]\n",
    "for word in words:\n",
    "    if word in vowels:\n",
    "        if word not in found:\n",
    "            found.append(word)\n",
    "print(found)"
   ]
  },
  {
   "cell_type": "code",
   "execution_count": null,
   "id": "f9b6e5e9",
   "metadata": {},
   "outputs": [],
   "source": [
    "n=list(map(int,input().split()))\n",
    "s=[]\n",
    "k=len(n)\n",
    "sum=n[0]+n[1]\n",
    "s.append(sum)\n",
    "for i in range(1,k):\n",
    "    for j in range(0,i):\n",
    "        sum=s[j]+n[i]\n",
    "        s.append(sum)\n",
    "print(s)\n",
    "\n"
   ]
  },
  {
   "cell_type": "code",
   "execution_count": 2,
   "id": "aee03795",
   "metadata": {},
   "outputs": [
    {
     "name": "stdout",
     "output_type": "stream",
     "text": [
      "1 2 3 4 5\n",
      "[3, 5, 6, 8, 7, 9, 10, 8, 10, 11, 13]\n"
     ]
    }
   ],
   "source": [
    "n=list(map(int,input().split()))\n",
    "s=[]\n",
    "k=len(n)\n",
    "p=n[0]+n[1]\n",
    "s.append(sum)\n",
    "for i in range(1,k):\n",
    "        k=s[i-1]+n[i]\n",
    "        s.append(sum)\n",
    "print(s)\n",
    "\n"
   ]
  },
  {
   "cell_type": "code",
   "execution_count": 1,
   "id": "3e2706a1",
   "metadata": {},
   "outputs": [
    {
     "name": "stdout",
     "output_type": "stream",
     "text": [
      "puttalakshmisilpa\n",
      "[('l', 2), ('u', 1), ('t', 2), ('m', 1), ('a', 3), ('k', 1), ('p', 2), ('i', 2), ('h', 1), ('s', 2)]\n"
     ]
    }
   ],
   "source": [
    "n=input()\n",
    "d=[]\n",
    "m=set(n)\n",
    "for i in m:\n",
    "    s=(i,n.count(i))\n",
    "    d.append(s)\n",
    "print(d)"
   ]
  },
  {
   "cell_type": "code",
   "execution_count": null,
   "id": "36d16c67",
   "metadata": {},
   "outputs": [],
   "source": []
  }
 ],
 "metadata": {
  "kernelspec": {
   "display_name": "Python 3 (ipykernel)",
   "language": "python",
   "name": "python3"
  },
  "language_info": {
   "codemirror_mode": {
    "name": "ipython",
    "version": 3
   },
   "file_extension": ".py",
   "mimetype": "text/x-python",
   "name": "python",
   "nbconvert_exporter": "python",
   "pygments_lexer": "ipython3",
   "version": "3.11.5"
  }
 },
 "nbformat": 4,
 "nbformat_minor": 5
}
